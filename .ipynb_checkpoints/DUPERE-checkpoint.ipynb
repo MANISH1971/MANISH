{
 "cells": [
  {
   "cell_type": "markdown",
   "metadata": {},
   "source": [
    "* You know enough to create a real program!\n",
    "* For your first milestone project you will create a Tic Tac Toe game for 2 human players\n",
    "* Let's describe what the game will be like...\n",
    "* 2 Player should able to play the game(both sitting at the same computer)\n",
    "* The Board should be printed out every time a player make a move\n",
    "* You should able to accept the input of the player position and then place a symbol on the board\n",
    "\n",
    "* We will use the \"numpad\" to match numbers to the grid on a Tic Toe board:\n",
    "\n",
    "* -------------\n",
    "* | 7 | 8 | 9 |\n",
    "* | 4 | 5 | 6 |\n",
    "* | 1 | 2 | 3 |\n",
    "* -------------\n",
    "\n",
    "* Creating your first full program is a always a big leap, but you will come out the other end a much better programmer!\n",
    "* We've set up a walkthrough notebook for you to help guide you a along with the functions you will need to create.\n",
    "* let's explore what the game will look like once it is done\n",
    "* We'll also cover a few useful functions and go through the workthrough notebook.\n",
    "* Let's get started!\n",
    "\n",
    "* We will use the numpad to match numbers to the grid on the tic tac toe board:\n",
    "\n",
    "* -------------\n",
    "* |   | O |   |\n",
    "* |   |   |   |\n",
    "* | x |   |   |\n",
    "* -------------\n"
   ]
  },
  {
   "cell_type": "markdown",
   "metadata": {},
   "source": [
    "* Milestone Project 1 : Walkthrough Steps Workbook\n",
    "* Below is the steps for you to follow to try to create the Tic Tac Toe Milestone Project game!\n",
    "* To take input from the user:\n",
    "* player = input(\"please pick a marker 'X' or 'O'\")\n",
    "* Note that input() take a string. If you need an integer value, use\n",
    "* position = int(input(\"please pick a marker 'X' or 'O'\"))\n",
    "* To clear the screen between moves:\n",
    "* from Ipython.display import clear_output\n",
    "* clear_output()\n",
    "\n",
    "### Note that clear_output will in jupyter. To clear the screen the screen in other IDE's, consider:\n",
    "* print('\\n'*100)\n",
    "* This scroll the previous board up out of view. Now on to the program!\n",
    "\n",
    "* Step 1 : Write a function that can print out board. Setup your board as list, where each index 1-9 correspondence with  on number pad so you get a 3 by 3 board representation."
   ]
  },
  {
   "cell_type": "code",
   "execution_count": 15,
   "metadata": {},
   "outputs": [],
   "source": [
    "# STEP - 1\n",
    "from IPython.display import clear_output\n",
    "def display_board(board):\n",
    "    clear_output()\n",
    "    print(board[7]+'|'+board[8]+'|'+board[9]+'|')\n",
    "    print(board[4]+'|'+board[5]+'|'+board[6]+'|')\n",
    "    print(board[1]+'|'+board[2]+'|'+board[3]+'|')\n",
    "#    clear_output()"
   ]
  },
  {
   "cell_type": "code",
   "execution_count": 16,
   "metadata": {},
   "outputs": [
    {
     "name": "stdout",
     "output_type": "stream",
     "text": [
      " | | |\n",
      " | | |\n",
      " | | |\n"
     ]
    }
   ],
   "source": [
    "text_display = ['#','X','O','X','O','X','O','X','O','X']\n",
    "display_board(text_display)\n",
    "#print('clear')\n",
    "text_display = [' ']*10\n",
    "#display_board(text_display)"
   ]
  },
  {
   "cell_type": "code",
   "execution_count": 3,
   "metadata": {},
   "outputs": [],
   "source": [
    "# STEP - 2\n",
    "def player_input():\n",
    "    marker = ''\n",
    "# KEEP ASKING CHOOSE X OR O\n",
    "    while marker != 'X' and marker != 'O':\n",
    "        marker = input('player 1, choose X or O: ')\n",
    "        # ASSING PLAYER 2, the opposite marker\n",
    "        marker = marker.upper()\n",
    "        print(marker)\n",
    "        player1 = marker\n",
    "        if player1== 'X':\n",
    "            player2 = 'O'\n",
    "        else:\n",
    "            player2 = 'X'\n",
    "    return(player1,player2)"
   ]
  },
  {
   "cell_type": "code",
   "execution_count": 6,
   "metadata": {},
   "outputs": [
    {
     "name": "stdout",
     "output_type": "stream",
     "text": [
      "player 1, choose X or O: x\n",
      "X\n"
     ]
    },
    {
     "data": {
      "text/plain": [
       "('X', 'O')"
      ]
     },
     "execution_count": 6,
     "metadata": {},
     "output_type": "execute_result"
    }
   ],
   "source": [
    "player_input()"
   ]
  },
  {
   "cell_type": "code",
   "execution_count": 8,
   "metadata": {},
   "outputs": [
    {
     "name": "stdout",
     "output_type": "stream",
     "text": [
      "player 1, choose X or O: o\n",
      "O\n"
     ]
    }
   ],
   "source": [
    "player1_marker,player2_marker = player_input()"
   ]
  },
  {
   "cell_type": "code",
   "execution_count": 10,
   "metadata": {},
   "outputs": [
    {
     "data": {
      "text/plain": [
       "'O'"
      ]
     },
     "execution_count": 10,
     "metadata": {},
     "output_type": "execute_result"
    }
   ],
   "source": [
    "player1_marker"
   ]
  },
  {
   "cell_type": "code",
   "execution_count": 11,
   "metadata": {},
   "outputs": [
    {
     "data": {
      "text/plain": [
       "'X'"
      ]
     },
     "execution_count": 11,
     "metadata": {},
     "output_type": "execute_result"
    }
   ],
   "source": [
    "player2_marker"
   ]
  },
  {
   "cell_type": "code",
   "execution_count": null,
   "metadata": {},
   "outputs": [],
   "source": [
    "from IPython.display import clear_output\n",
    "def display_board(board):\n",
    "#    clear_output()\n",
    "    print(board[7]+'|'+board[8]+'|'+board[9]+'|')\n",
    "    print(board[4]+'|'+board[5]+'|'+board[6]+'|')\n",
    "    print(board[1]+'|'+board[2]+'|'+board[3]+'|')\n",
    "text_display = ['#','1','2','3','4','5','6','7','8','9']\n",
    "list_num1 = ['#','1','2','3','4','5','6','7','8','9']\n",
    "print('Welcome to Tic Tac Toe!')\n",
    "strg = 'Player1'\n",
    "cont = '  '\n",
    "checker = None\n",
    "def player_input():\n",
    "    marker = ''\n",
    "# KEEP ASKING CHOOSE X OR O\n",
    "    while marker != 'X' and marker != 'O':\n",
    "        marker = input('Player 1: Do you want to be X or O:')\n",
    "        # ASSING PLAYER 2, the opposite marker\n",
    "        marker = marker.upper()\n",
    "#        print(marker)\n",
    "        player1 = marker\n",
    "        if player1== 'X':\n",
    "            player2 = 'O'\n",
    "        else:\n",
    "            player2 = 'X'\n",
    "    return(player1,player2)\n",
    "def bools(a):\n",
    "    return bool((list_num1[1],list_num1[2],list_num1[3])==(a,a,a) or \n",
    "                (list_num1[4],list_num1[5],list_num1[6])==(a,a,a) or\n",
    "                (list_num1[7],list_num1[8],list_num1[9])==(a,a,a) or\n",
    "                (list_num1[1],list_num1[4],list_num1[7])==(a,a,a) or\n",
    "                (list_num1[2],list_num1[5],list_num1[8])==(a,a,a) or\n",
    "                (list_num1[3],list_num1[6],list_num1[9])==(a,a,a))\n",
    "\n",
    "#player1_marker,player2_marker = player_input()\n",
    "player1,player2=player_input()\n",
    "print('Player1 will go first.')\n",
    "cont = input('Are you ready to play? Enter Yes or No. ')\n",
    "#p1 = input(strg+' Choose your next position: (1-9) :')\n",
    "list_num = [' ']*10\n",
    "clear_output()\n",
    "cnt=0\n",
    "while cnt <= 8 and cont !='No':\n",
    "    p1 = input(strg+' Choose your next position: (1-9) :')\n",
    "    if player1 == 'X':\n",
    "        list_num1[int(p1)] = 'X'\n",
    "        display_board(list_num1)\n",
    "        cnt = cnt + 1\n",
    "        checker = bools('X')\n",
    "        print(checker,player1,player2)\n",
    "        if checker == True :\n",
    "#            clear_output\n",
    "            strg = strg + ' X Has Won The Game'\n",
    "            print(strg)\n",
    "            cnt = 9\n",
    "            cont = 'Yes'\n",
    "            checker = None\n",
    "#            break\n",
    "        elif checker == False :\n",
    "                player1 = ' '\n",
    "                player2 = 'O'\n",
    "                strg = 'Player2'\n",
    "                print(list_num1)\n",
    "    elif player2 == 'O':\n",
    "        player1 = 'X'\n",
    "        list_num1[int(p1)] = 'O'\n",
    "        display_board(list_num1)\n",
    "        cnt = cnt + 1\n",
    "        checker = bools('O')\n",
    "        print(checker,player1,player2)\n",
    "        if checker == True :\n",
    "#            clear_output\n",
    "            strg = strg + ' O Has Won The Game'\n",
    "            print(strg)    \n",
    "            cnt = 9\n",
    "            cont = 'Yes'\n",
    "            checker = None\n",
    "#            break\n",
    "        elif checker == False :\n",
    "                player2 = ' '\n",
    "                strg = 'Player1'\n",
    "                print(list_num1)\n",
    "    if cnt==9 and cont =='Yes':\n",
    "        clear_output()\n",
    "        cont = input('Are you ready to play? Enter Yes or No. ')\n",
    "        if cont =='Yes':\n",
    "            list_num1 = text_display\n",
    "            list_num = [' ']*10\n",
    "            cnt=0\n",
    "        elif cont ==\"No\":\n",
    "            clear_output()\n",
    "            list_num = [' ']*10\n",
    "            display_board(list_num1)\n",
    "        print(list_num1)\n",
    "        display_board(list_num1)\n",
    "#        print(checker)\n",
    "        print(strg)"
   ]
  },
  {
   "cell_type": "code",
   "execution_count": null,
   "metadata": {
    "scrolled": true
   },
   "outputs": [],
   "source": []
  },
  {
   "cell_type": "code",
   "execution_count": 9,
   "metadata": {},
   "outputs": [
    {
     "data": {
      "text/plain": [
       "['#', 'X', 'X', 'X', '4', '5', '6', 'O', '8', 'O']"
      ]
     },
     "execution_count": 9,
     "metadata": {},
     "output_type": "execute_result"
    }
   ],
   "source": [
    "list_num1"
   ]
  },
  {
   "cell_type": "code",
   "execution_count": 10,
   "metadata": {},
   "outputs": [
    {
     "data": {
      "text/plain": [
       "['#', '1', '2', '3', '4', '5', '6', '7', '8', '9']"
      ]
     },
     "execution_count": 10,
     "metadata": {},
     "output_type": "execute_result"
    }
   ],
   "source": [
    "text_display"
   ]
  },
  {
   "cell_type": "code",
   "execution_count": 18,
   "metadata": {},
   "outputs": [],
   "source": [
    "def bools(a):\n",
    "    return bool((list_num1[1],list_num1[2],list_num1[3])==(a,a,a) or \n",
    "                (list_num1[4],list_num1[5],list_num1[6])==(a,a,a) or\n",
    "                (list_num1[7],list_num1[8],list_num1[9])==(a,a,a) or\n",
    "                (list_num1[1],list_num1[4],list_num1[7])==(a,a,a) or\n",
    "                (list_num1[2],list_num1[5],list_num1[8])==(a,a,a) or\n",
    "                (list_num1[3],list_num1[6],list_num1[9])==(a,a,a))"
   ]
  },
  {
   "cell_type": "code",
   "execution_count": 20,
   "metadata": {},
   "outputs": [
    {
     "data": {
      "text/plain": [
       "False"
      ]
     },
     "execution_count": 20,
     "metadata": {},
     "output_type": "execute_result"
    }
   ],
   "source": [
    "bools(player1)"
   ]
  },
  {
   "cell_type": "code",
   "execution_count": null,
   "metadata": {},
   "outputs": [],
   "source": []
  }
 ],
 "metadata": {
  "kernelspec": {
   "display_name": "Python 3",
   "language": "python",
   "name": "python3"
  },
  "language_info": {
   "codemirror_mode": {
    "name": "ipython",
    "version": 3
   },
   "file_extension": ".py",
   "mimetype": "text/x-python",
   "name": "python",
   "nbconvert_exporter": "python",
   "pygments_lexer": "ipython3",
   "version": "3.7.3"
  }
 },
 "nbformat": 4,
 "nbformat_minor": 2
}
