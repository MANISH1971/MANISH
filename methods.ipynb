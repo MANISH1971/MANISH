{
 "cells": [
  {
   "cell_type": "markdown",
   "metadata": {},
   "source": [
    "# METHOD\n",
    "## DEEP LEARNING\n",
    "BUILT-IN OBJECT IN PYTHON HAVE A VARIETY OF METHOD YOU CAN USE!'\n",
    "\n",
    "LET'S EXPLORE IN A BIT MORE DETAIL HOW TO FIND METHOD AND HOW TO GET INFORMATION ABOUT THEM"
   ]
  },
  {
   "cell_type": "code",
   "execution_count": 5,
   "metadata": {},
   "outputs": [
    {
     "data": {
      "text/plain": [
       "[1, 2, 3]"
      ]
     },
     "execution_count": 5,
     "metadata": {},
     "output_type": "execute_result"
    }
   ],
   "source": [
    "mylist = [1,2,3]\n",
    "mylist"
   ]
  },
  {
   "cell_type": "code",
   "execution_count": 6,
   "metadata": {},
   "outputs": [
    {
     "data": {
      "text/plain": [
       "[1, 2, 3, 4]"
      ]
     },
     "execution_count": 6,
     "metadata": {},
     "output_type": "execute_result"
    }
   ],
   "source": [
    "mylist.append(4)\n",
    "mylist"
   ]
  },
  {
   "cell_type": "code",
   "execution_count": 7,
   "metadata": {},
   "outputs": [
    {
     "data": {
      "text/plain": [
       "4"
      ]
     },
     "execution_count": 7,
     "metadata": {},
     "output_type": "execute_result"
    }
   ],
   "source": [
    "mylist.pop()"
   ]
  },
  {
   "cell_type": "code",
   "execution_count": 8,
   "metadata": {},
   "outputs": [
    {
     "data": {
      "text/plain": [
       "[1, 2, 3]"
      ]
     },
     "execution_count": 8,
     "metadata": {},
     "output_type": "execute_result"
    }
   ],
   "source": [
    "mylist"
   ]
  },
  {
   "cell_type": "markdown",
   "metadata": {},
   "source": [
    "# HOW TO USE HELP FOR FUNCTION\n",
    "# SHIFT + TAB TO GET THE DETAILS OF THE FUNCTIONS"
   ]
  },
  {
   "cell_type": "code",
   "execution_count": 9,
   "metadata": {},
   "outputs": [
    {
     "name": "stdout",
     "output_type": "stream",
     "text": [
      "Help on built-in function insert:\n",
      "\n",
      "insert(index, object, /) method of builtins.list instance\n",
      "    Insert object before index.\n",
      "\n"
     ]
    }
   ],
   "source": [
    "help(mylist.insert)"
   ]
  },
  {
   "cell_type": "markdown",
   "metadata": {},
   "source": [
    "# FUNCTION (CHAPTER)\n",
    "\n",
    "CREATING CLEAN REPEATABLE CODE IS A KEY PART OF PROGRAMMING AN EFFECTIVE PROGRAMMER\n",
    "\n",
    "### FUNCTION ALLOW US TO CREATE BLOCKS OF CODE THAT CAN BE EASILY EXECUTED MANY TIMES, WITHOUT NEEDING TO CONSTANTLY REWRITE THE ENTIRE BLOCK OF CODE."
   ]
  },
  {
   "cell_type": "markdown",
   "metadata": {},
   "source": [
    "# SYNTAX OF HOW TO CREATE FUNCTION MENTION BELOW\n",
    "# VOID FUNCTION()\n",
    "def_name_of_function():\n",
    "    ''' \n",
    "    Docstring explain function.\n",
    "    '''\n",
    "    print('Hello')\n",
    ">> name_of_function()\n",
    ">> Hello\n",
    "\n",
    "# FUNCTION() WITH PARAMETER\n",
    "\n",
    "def_name_of_function(name):\n",
    "    ''' \n",
    "    Docstring explain function.\n",
    "    '''\n",
    "    print(\"Hello\" + name)\n",
    ">>> name_of_function(\"Jose\")\n",
    ">>> Hello Jose"
   ]
  },
  {
   "cell_type": "markdown",
   "metadata": {},
   "source": [
    "* Typically we use the return keyword to send back the result of the function, instead of just printing out.\n",
    "# * return allow us to assign the output of the function to a new variable."
   ]
  },
  {
   "cell_type": "markdown",
   "metadata": {},
   "source": [
    "# return function syntax with example\n",
    "\n",
    "def_add_function(num1,num2)\n",
    "    return num1+num2\n",
    ">>> result = add_function(1,2)\n",
    ">>>\n",
    ">>> print(result)\n",
    ">>> 3"
   ]
  },
  {
   "cell_type": "code",
   "execution_count": 1,
   "metadata": {},
   "outputs": [
    {
     "data": {
      "text/plain": [
       "<function __main__.name_function()>"
      ]
     },
     "execution_count": 1,
     "metadata": {},
     "output_type": "execute_result"
    }
   ],
   "source": [
    "def name_function():\n",
    "    print('Hello')\n",
    "name_function"
   ]
  },
  {
   "cell_type": "code",
   "execution_count": 2,
   "metadata": {},
   "outputs": [
    {
     "name": "stdout",
     "output_type": "stream",
     "text": [
      "Hello\n"
     ]
    }
   ],
   "source": [
    "def name_function():\n",
    "    print('Hello')\n",
    "name_function()"
   ]
  },
  {
   "cell_type": "markdown",
   "metadata": {},
   "source": [
    "### TO MAKE USER UNDERSTAND WHAT FUNCTION MEANS"
   ]
  },
  {
   "cell_type": "code",
   "execution_count": null,
   "metadata": {},
   "outputs": [],
   "source": [
    "def name_function():\n",
    "    ''''\n",
    "    DOCSTRING: INFORMATION ABOUT THE FUNCTION\n",
    "    INPUT: NO INPUT...\n",
    "    OUTPUT: Hello...\n",
    "    '''\n",
    "    print('Hello')\n",
    "name_function"
   ]
  },
  {
   "cell_type": "code",
   "execution_count": 5,
   "metadata": {},
   "outputs": [
    {
     "name": "stdout",
     "output_type": "stream",
     "text": [
      "Help on function name_function in module __main__:\n",
      "\n",
      "name_function()\n",
      "    '\n",
      "    DOCSTRING: INFORMATION ABOUT THE FUNCTION\n",
      "    INPUT: NO INPUT...\n",
      "    OUTPUT: Hello...\n",
      "\n"
     ]
    }
   ],
   "source": [
    "help(name_function)"
   ]
  },
  {
   "cell_type": "code",
   "execution_count": 6,
   "metadata": {},
   "outputs": [],
   "source": [
    "def say_hello():\n",
    "    print('Hello')"
   ]
  },
  {
   "cell_type": "code",
   "execution_count": 7,
   "metadata": {},
   "outputs": [
    {
     "name": "stdout",
     "output_type": "stream",
     "text": [
      "Hello\n"
     ]
    }
   ],
   "source": [
    "say_hello()"
   ]
  },
  {
   "cell_type": "markdown",
   "metadata": {},
   "source": [
    "# EXAMPLE WITH PARAMETER"
   ]
  },
  {
   "cell_type": "code",
   "execution_count": 12,
   "metadata": {},
   "outputs": [],
   "source": [
    "def say_hello(name):\n",
    "    print('Hello '+name)"
   ]
  },
  {
   "cell_type": "code",
   "execution_count": 13,
   "metadata": {},
   "outputs": [
    {
     "name": "stdout",
     "output_type": "stream",
     "text": [
      "Hello Jose\n"
     ]
    }
   ],
   "source": [
    "say_hello('Jose')"
   ]
  },
  {
   "cell_type": "markdown",
   "metadata": {},
   "source": [
    "## DEFAULT VALUE FUNCTION WITH PARAMETER"
   ]
  },
  {
   "cell_type": "code",
   "execution_count": 14,
   "metadata": {},
   "outputs": [
    {
     "name": "stdout",
     "output_type": "stream",
     "text": [
      "hello NAME\n"
     ]
    }
   ],
   "source": [
    "def say_hello(name='NAME'):\n",
    "    print('hello ' + name)\n",
    "say_hello()"
   ]
  },
  {
   "cell_type": "code",
   "execution_count": 15,
   "metadata": {},
   "outputs": [
    {
     "name": "stdout",
     "output_type": "stream",
     "text": [
      "hello Sam\n"
     ]
    }
   ],
   "source": [
    "def say_hello(name='NAME'):\n",
    "    print('hello ' + name)\n",
    "say_hello('Sam')"
   ]
  },
  {
   "cell_type": "markdown",
   "metadata": {},
   "source": [
    "## DEFAULT VALUE FUNCTION WITH RETURN PARAMETER"
   ]
  },
  {
   "cell_type": "code",
   "execution_count": 18,
   "metadata": {},
   "outputs": [
    {
     "data": {
      "text/plain": [
       "'hello Jose'"
      ]
     },
     "execution_count": 18,
     "metadata": {},
     "output_type": "execute_result"
    }
   ],
   "source": [
    "def say_hello(name='NAME'):\n",
    "    return 'hello ' + name\n",
    "result = say_hello('Jose')\n",
    "result"
   ]
  },
  {
   "cell_type": "code",
   "execution_count": 19,
   "metadata": {},
   "outputs": [
    {
     "data": {
      "text/plain": [
       "50"
      ]
     },
     "execution_count": 19,
     "metadata": {},
     "output_type": "execute_result"
    }
   ],
   "source": [
    "def adds(num1,num2):\n",
    "    return num1+num2\n",
    "result = adds(20,30)\n",
    "result"
   ]
  },
  {
   "cell_type": "code",
   "execution_count": null,
   "metadata": {},
   "outputs": [],
   "source": [
    "# Find out if the word \"dog\" is in a string?"
   ]
  },
  {
   "cell_type": "code",
   "execution_count": 9,
   "metadata": {},
   "outputs": [
    {
     "data": {
      "text/plain": [
       "True"
      ]
     },
     "execution_count": 9,
     "metadata": {},
     "output_type": "execute_result"
    }
   ],
   "source": [
    "def dog_check(mystring):\n",
    "    if 'dog' in mystring:\n",
    "        return True\n",
    "    else:\n",
    "        return False\n",
    "dog_check('My dog ran away')"
   ]
  },
  {
   "cell_type": "code",
   "execution_count": 2,
   "metadata": {},
   "outputs": [
    {
     "data": {
      "text/plain": [
       "False"
      ]
     },
     "execution_count": 2,
     "metadata": {},
     "output_type": "execute_result"
    }
   ],
   "source": [
    "dog_check('My cat ran away')"
   ]
  },
  {
   "cell_type": "code",
   "execution_count": 8,
   "metadata": {},
   "outputs": [
    {
     "data": {
      "text/plain": [
       "True"
      ]
     },
     "execution_count": 8,
     "metadata": {},
     "output_type": "execute_result"
    }
   ],
   "source": [
    "def dog_check(mystring):\n",
    "    if 'dog' in mystring.lower():\n",
    "        return True\n",
    "    else:\n",
    "        return False\n",
    "dog_check('My dog ran away')"
   ]
  },
  {
   "cell_type": "code",
   "execution_count": 10,
   "metadata": {},
   "outputs": [
    {
     "data": {
      "text/plain": [
       "True"
      ]
     },
     "execution_count": 10,
     "metadata": {},
     "output_type": "execute_result"
    }
   ],
   "source": [
    "'dog' in 'dog ran away'"
   ]
  },
  {
   "cell_type": "markdown",
   "metadata": {},
   "source": [
    "##### BELOW CODE IGNORE THE IF STMT AS THIS STMT IS ITSELF A BOOLEAN COMPARISSION \" return 'dog' in mystring.lower()\" ."
   ]
  },
  {
   "cell_type": "code",
   "execution_count": 12,
   "metadata": {},
   "outputs": [
    {
     "data": {
      "text/plain": [
       "True"
      ]
     },
     "execution_count": 12,
     "metadata": {},
     "output_type": "execute_result"
    }
   ],
   "source": [
    "def dog_check(mystring):\n",
    "    return 'dog' in mystring.lower()\n",
    "dog_check('My dog ran away')"
   ]
  },
  {
   "cell_type": "markdown",
   "metadata": {},
   "source": [
    "# PIG LATIN\n",
    "* if a word start with the vowel, add 'ay to the end.\n",
    "* if a word does not start with a vowel, put first letter at the end, then add 'ay'\n",
    "* word --> ordway\n",
    "* word --> appleay"
   ]
  },
  {
   "cell_type": "code",
   "execution_count": 14,
   "metadata": {},
   "outputs": [],
   "source": [
    "def pig_latin(word):\n",
    "    \n",
    "    first_letter = word[0]\n",
    "    if first_letter == 'aeiou':\n",
    "        pig_latin = word + 'ay'\n",
    "    else :\n",
    "        pig_latin = word[1:] + first_letter + 'ay'\n",
    "    return pig_latin"
   ]
  },
  {
   "cell_type": "code",
   "execution_count": 26,
   "metadata": {},
   "outputs": [
    {
     "data": {
      "text/plain": [
       "'ppleaay'"
      ]
     },
     "execution_count": 26,
     "metadata": {},
     "output_type": "execute_result"
    }
   ],
   "source": [
    "pig_latin('apple')"
   ]
  },
  {
   "cell_type": "markdown",
   "metadata": {},
   "source": [
    "The parameter weekday is True if it is a weekday, and the parameter vacation is True if we are on vacation. We sleep in if it is not a weekday or we're on vacation. Return True if we sleep in.\n",
    "\n",
    "sleep_in(False, False) → True\n",
    "sleep_in(True, False) → False\n",
    "sleep_in(False, True) → True"
   ]
  },
  {
   "cell_type": "code",
   "execution_count": 46,
   "metadata": {},
   "outputs": [],
   "source": [
    "def sleep_in(weekday, vacation):\n",
    "    if weekday and vacation:\n",
    "        print('holiday')\n",
    "        return True\n",
    "    else:\n",
    "        print('work')\n",
    "    return False"
   ]
  },
  {
   "cell_type": "code",
   "execution_count": 50,
   "metadata": {},
   "outputs": [
    {
     "name": "stdout",
     "output_type": "stream",
     "text": [
      "work\n"
     ]
    },
    {
     "data": {
      "text/plain": [
       "False"
      ]
     },
     "execution_count": 50,
     "metadata": {},
     "output_type": "execute_result"
    }
   ],
   "source": [
    "sleep_in(False,False)"
   ]
  },
  {
   "cell_type": "code",
   "execution_count": 51,
   "metadata": {},
   "outputs": [
    {
     "name": "stdout",
     "output_type": "stream",
     "text": [
      "work\n"
     ]
    },
    {
     "data": {
      "text/plain": [
       "False"
      ]
     },
     "execution_count": 51,
     "metadata": {},
     "output_type": "execute_result"
    }
   ],
   "source": [
    "sleep_in(True,False)"
   ]
  },
  {
   "cell_type": "code",
   "execution_count": 52,
   "metadata": {},
   "outputs": [
    {
     "name": "stdout",
     "output_type": "stream",
     "text": [
      "work\n"
     ]
    },
    {
     "data": {
      "text/plain": [
       "False"
      ]
     },
     "execution_count": 52,
     "metadata": {},
     "output_type": "execute_result"
    }
   ],
   "source": [
    "sleep_in(False,True)"
   ]
  },
  {
   "cell_type": "markdown",
   "metadata": {},
   "source": [
    "# EXERCISE FOR FUNCTION\n",
    "Functions #1: print Hello World\n",
    "Write a function called myfunc that prints the string 'Hello World'.\n",
    "For example:\n",
    "    def myfunc():\n",
    "        print('Some text')"
   ]
  },
  {
   "cell_type": "code",
   "execution_count": 7,
   "metadata": {},
   "outputs": [
    {
     "data": {
      "text/plain": [
       "'Hello World'"
      ]
     },
     "execution_count": 7,
     "metadata": {},
     "output_type": "execute_result"
    }
   ],
   "source": [
    "def myfunc(string ='Hello World'):\n",
    "    return string\n",
    "myfunc()"
   ]
  },
  {
   "cell_type": "markdown",
   "metadata": {},
   "source": [
    "#\n",
    "Functions #2: print Hello Name\n",
    "Define a function called myfunc that takes in a name, and prints 'Hello Name' \n",
    "NOTE: Define the function, but do not run it!\n",
    "Also, do not use f-strings, as they are not supported in this Coding Exercise.\n",
    "For example:\n",
    "    def myfunc(name):\n",
    "        print('My name is {}'.format(name))\n",
    "Remember, do not run the function! However, if we were to pass in a name, it would look like this:\n",
    "    myfunc('Jose')\n",
    "    #Output: My name is Jose"
   ]
  },
  {
   "cell_type": "code",
   "execution_count": 21,
   "metadata": {},
   "outputs": [],
   "source": [
    "def myfunc(a):\n",
    "    if a == 'True':\n",
    "        return 'Hello'\n",
    "    else:\n",
    "        return 'Goodbye'"
   ]
  },
  {
   "cell_type": "code",
   "execution_count": 24,
   "metadata": {},
   "outputs": [
    {
     "data": {
      "text/plain": [
       "'Goodbye'"
      ]
     },
     "execution_count": 24,
     "metadata": {},
     "output_type": "execute_result"
    }
   ],
   "source": [
    "myfunc(False)"
   ]
  },
  {
   "cell_type": "markdown",
   "metadata": {},
   "source": [
    "#\n",
    "Functions #3 - simple Boolean\n",
    "Define a function called myfunc that takes in a Boolean value (True or False). If True, return 'Hello', and if False, return 'Goodbye'\n",
    "Remember, don't run the function, simply provide the definition.\n",
    "For example, a function that returns 'Inside' if a is True and 'Outside' if a is False could look like:\n",
    "    def myfunc(a):\n",
    "        if a == True:\n",
    "            return 'Inside'\n",
    "        elif a == False:\n",
    "            return 'Outside'\n",
    "\n",
    "This is all you need to enter!\n",
    "\n",
    "To give an idea what the above function would look like when tested:\n",
    "\n",
    "    myfunc(False)\n",
    "    # Output: 'Outside'"
   ]
  },
  {
   "cell_type": "markdown",
   "metadata": {},
   "source": [
    "Functions #4 - using Booleans\n",
    "Define a function called myfunc that takes three arguments, x, y and z.\n",
    "If z is True, return x.  If z is False, return y.\n",
    "Remember, don't run the function, simply provide the definition.\n",
    "For example, a function that returns a if c is True and b if c is False might look like:\n",
    "    def myfunc(a,b,c):\n",
    "        if c == True:\n",
    "            return a\n",
    "        else:\n",
    "            return b\n",
    "This is all you need to enter!\n",
    "\n",
    "To give an idea what the function would look like when tested:\n",
    "\n",
    "    myfunc('Hello','Goodbye',False)\n",
    "    # Output: 'Goodbye'"
   ]
  },
  {
   "cell_type": "code",
   "execution_count": 36,
   "metadata": {},
   "outputs": [],
   "source": [
    "def myfunc(x,y,z):\n",
    "    if z == True:\n",
    "        return x\n",
    "    else:\n",
    "        return y"
   ]
  },
  {
   "cell_type": "code",
   "execution_count": 38,
   "metadata": {},
   "outputs": [
    {
     "data": {
      "text/plain": [
       "'Goodbye'"
      ]
     },
     "execution_count": 38,
     "metadata": {},
     "output_type": "execute_result"
    }
   ],
   "source": [
    "myfunc('Hello','Goodbye',False)"
   ]
  },
  {
   "cell_type": "markdown",
   "metadata": {},
   "source": [
    "# Functions #5: simple math\n",
    "_________________________________________________________________________________\n",
    "Define a function called myfunc that takes in two arguments and returns their sum.\n",
    "Remember, don't run the function, simply provide the definition.\n",
    "For example, a function that takes in two arguments and returns their product might look like:\n",
    "    def myfunc(a,b):\n",
    "        return a*b\n",
    "This is all you need to enter!\n",
    "To give an idea what the above function would look like when tested:\n",
    "    myfunc(5,12)\n",
    "    # Output: 60"
   ]
  },
  {
   "cell_type": "code",
   "execution_count": 27,
   "metadata": {},
   "outputs": [],
   "source": [
    "def myfunc(x,y):\n",
    "    return x + y"
   ]
  },
  {
   "cell_type": "code",
   "execution_count": 28,
   "metadata": {},
   "outputs": [
    {
     "data": {
      "text/plain": [
       "100"
      ]
     },
     "execution_count": 28,
     "metadata": {},
     "output_type": "execute_result"
    }
   ],
   "source": [
    "myfunc(10,10)"
   ]
  },
  {
   "cell_type": "markdown",
   "metadata": {},
   "source": [
    "#\n",
    "Functions #6: is even\n",
    "Define a function called is_even that takes in one argument, and returns True if the passed-in value is even, False if it is not.\n",
    "Remember, don't run the function, simply provide the definition.\n",
    "For example, a function that returns True if a value is divisible by 3 might look like:\n",
    "\n",
    "    def is_evenly_divisible_by_3(n):\n",
    "        if n%3 == 0:\n",
    "            return True\n",
    "        else:\n",
    "            return False\n",
    "\n",
    "This is all you need to enter!\n",
    "\n",
    "To give an idea what the above function would look like when tested:\n",
    "\n",
    "    is_evenly_divisible_by_3(15)\n",
    "    # Output: True\n",
    "\n",
    "Added note: this exercise requires that the function return True or False. Print statements will not work here."
   ]
  },
  {
   "cell_type": "code",
   "execution_count": 29,
   "metadata": {},
   "outputs": [],
   "source": [
    "def is_even(n):\n",
    "    if n %2 == 0:\n",
    "        return True\n",
    "    else:\n",
    "        return False"
   ]
  },
  {
   "cell_type": "code",
   "execution_count": 30,
   "metadata": {},
   "outputs": [
    {
     "data": {
      "text/plain": [
       "True"
      ]
     },
     "execution_count": 30,
     "metadata": {},
     "output_type": "execute_result"
    }
   ],
   "source": [
    "is_even(2)"
   ]
  },
  {
   "cell_type": "markdown",
   "metadata": {},
   "source": [
    "#\n",
    "Functions #7: is greater\n",
    "Define a function called is_greater that takes in two arguments, and returns True if the first value is greater than the second, False if it is less than or equal to the second.\n",
    "Remember, don't run the function, simply provide the definition.\n",
    "For example, a function that returns True if the first value is less than the second might look like:\n",
    "\n",
    "    def is_less(c,d):\n",
    "        if c < d:\n",
    "            return True\n",
    "        else:\n",
    "            return False\n",
    "\n",
    "This is all you need to enter!\n",
    "\n",
    "To give an idea what the above function would look like when tested:\n",
    "\n",
    "    is_less(5,9)\n",
    "    # Output: True\n",
    "\n",
    "Added note: this exercise requires that the function return True or False. Print statements will not work here."
   ]
  },
  {
   "cell_type": "code",
   "execution_count": 34,
   "metadata": {},
   "outputs": [],
   "source": [
    "def is_greater(a,b):\n",
    "    if a>b:\n",
    "        return True\n",
    "    else:\n",
    "        return False"
   ]
  },
  {
   "cell_type": "code",
   "execution_count": 35,
   "metadata": {},
   "outputs": [
    {
     "data": {
      "text/plain": [
       "False"
      ]
     },
     "execution_count": 35,
     "metadata": {},
     "output_type": "execute_result"
    }
   ],
   "source": [
    "is_greater(6,9)"
   ]
  }
 ],
 "metadata": {
  "kernelspec": {
   "display_name": "Python 3",
   "language": "python",
   "name": "python3"
  },
  "language_info": {
   "codemirror_mode": {
    "name": "ipython",
    "version": 3
   },
   "file_extension": ".py",
   "mimetype": "text/x-python",
   "name": "python",
   "nbconvert_exporter": "python",
   "pygments_lexer": "ipython3",
   "version": "3.7.3"
  }
 },
 "nbformat": 4,
 "nbformat_minor": 2
}
